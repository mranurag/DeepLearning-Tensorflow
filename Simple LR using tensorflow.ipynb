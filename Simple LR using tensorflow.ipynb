{
 "cells": [
  {
   "cell_type": "code",
   "execution_count": 2,
   "metadata": {},
   "outputs": [],
   "source": [
    "import tensorflow as tf\n",
    "import numpy as np\n",
    "np.random.seed(101)\n",
    "tf.set_random_seed(101)"
   ]
  },
  {
   "cell_type": "code",
   "execution_count": 3,
   "metadata": {},
   "outputs": [],
   "source": [
    "# creating  random variables\n",
    "rand_a = np.random.uniform(0,100,(5,5))\n",
    "rand_b = np.random.uniform(0,100,(5,1))"
   ]
  },
  {
   "cell_type": "code",
   "execution_count": 6,
   "metadata": {},
   "outputs": [],
   "source": [
    "#creating placeholders to handle the data\n",
    "a = tf.placeholder(tf.float32)\n",
    "b = tf.placeholder(tf.float32)"
   ]
  },
  {
   "cell_type": "code",
   "execution_count": 7,
   "metadata": {},
   "outputs": [],
   "source": [
    "# creating an operation\n",
    "add_op= a+b"
   ]
  },
  {
   "cell_type": "code",
   "execution_count": 8,
   "metadata": {
    "collapsed": true
   },
   "outputs": [],
   "source": [
    "# creating another operation\n",
    "mul_op= a*b"
   ]
  },
  {
   "cell_type": "code",
   "execution_count": 16,
   "metadata": {},
   "outputs": [
    {
     "name": "stdout",
     "output_type": "stream",
     "text": [
      "[[5134.644   5674.25     283.12433 1705.4707  6813.8315 ]\n",
      " [4341.8125  1598.267   4652.734   3756.8293   988.94635]\n",
      " [3207.8113  2038.1029  1052.7742  4546.9805  5588.1157 ]\n",
      " [1707.379    614.02527 4434.989   5356.7773  2029.8555 ]\n",
      " [3714.0984  2806.6438   262.76764  747.19855 1013.292  ]]\n"
     ]
    }
   ],
   "source": [
    "# creating a session and running the graph\n",
    "with tf.Session() as sess:\n",
    "    add_result = sess.run(add_op,feed_dict= {a:rand_a,b:rand_b})\n",
    "    mult_result= sess.run(mul_op,feed_dict={a:rand_a,b:rand_b})\n",
    "    print(mult_result)"
   ]
  },
  {
   "cell_type": "markdown",
   "metadata": {},
   "source": [
    "# Example neural Network"
   ]
  },
  {
   "cell_type": "code",
   "execution_count": 17,
   "metadata": {
    "collapsed": true
   },
   "outputs": [],
   "source": [
    "n_features=10\n",
    "n_dense_neurons= 3\n"
   ]
  },
  {
   "cell_type": "code",
   "execution_count": 18,
   "metadata": {
    "collapsed": true
   },
   "outputs": [],
   "source": [
    "# since we don't know the rows coming in(sample size), we give it as none\n",
    "x= tf.placeholder(tf.float32,(None,n_features))"
   ]
  },
  {
   "cell_type": "code",
   "execution_count": 19,
   "metadata": {
    "collapsed": true
   },
   "outputs": [],
   "source": [
    "# Since we will muliply X by W and then these values would be fed to dense layer, shape for W became (10,3)\n",
    "# we only add biases as many neurons are there in dense layer so for b shape became(3)\n",
    "W= tf.Variable(tf.random_normal([n_features,n_dense_neurons]))\n",
    "b = tf.Variable(tf.ones([n_dense_neurons]))"
   ]
  },
  {
   "cell_type": "code",
   "execution_count": 20,
   "metadata": {
    "collapsed": true
   },
   "outputs": [],
   "source": [
    "#defining operation\n",
    "Wx = tf.matmul(x,W)\n",
    "z= tf.add(Wx,b)\n",
    "# defining activation function\n",
    "a= tf.sigmoid(z)"
   ]
  },
  {
   "cell_type": "code",
   "execution_count": 21,
   "metadata": {
    "collapsed": true
   },
   "outputs": [],
   "source": [
    "init= tf.global_variables_initializer()"
   ]
  },
  {
   "cell_type": "code",
   "execution_count": 23,
   "metadata": {},
   "outputs": [
    {
     "name": "stdout",
     "output_type": "stream",
     "text": [
      "[[0.19592889 0.8423014  0.36188066]]\n"
     ]
    }
   ],
   "source": [
    "with tf.Session() as sess:\n",
    "    sess.run(init)\n",
    "    \n",
    "    layer_out = sess.run(a,feed_dict={x:np.random.random([1,n_features])})\n",
    "    print(layer_out)"
   ]
  },
  {
   "cell_type": "markdown",
   "metadata": {},
   "source": [
    "# Simple Linear Regression example"
   ]
  },
  {
   "cell_type": "code",
   "execution_count": 25,
   "metadata": {},
   "outputs": [],
   "source": [
    "#generating random data\n",
    "x_data= np.linspace(0,10,10)+ np.random.uniform(-1.5,1.5,10)\n",
    "y_label= np.linspace(0,10,10)+ np.random.uniform(-1.5,1.5,10)"
   ]
  },
  {
   "cell_type": "code",
   "execution_count": 34,
   "metadata": {},
   "outputs": [
    {
     "data": {
      "text/plain": [
       "array([0.5420333 , 1.17575569, 0.85241231, 2.50514314, 4.67005971,\n",
       "       4.41685654, 6.66701681, 6.69180648, 7.54731409, 9.03483077])"
      ]
     },
     "execution_count": 34,
     "metadata": {},
     "output_type": "execute_result"
    }
   ],
   "source": [
    "x_data"
   ]
  },
  {
   "cell_type": "code",
   "execution_count": 35,
   "metadata": {},
   "outputs": [
    {
     "data": {
      "text/plain": [
       "array([-0.17289561,  2.24387308,  3.57001461,  3.26783558,  4.32780247,\n",
       "        5.96742265,  6.14049066,  6.63051206,  7.54219188, 10.41297596])"
      ]
     },
     "execution_count": 35,
     "metadata": {},
     "output_type": "execute_result"
    }
   ],
   "source": [
    "y_label"
   ]
  },
  {
   "cell_type": "code",
   "execution_count": 26,
   "metadata": {
    "collapsed": true
   },
   "outputs": [],
   "source": [
    "import matplotlib.pyplot as plt\n",
    "%matplotlib inline"
   ]
  },
  {
   "cell_type": "code",
   "execution_count": 28,
   "metadata": {},
   "outputs": [
    {
     "data": {
      "text/plain": [
       "[<matplotlib.lines.Line2D at 0x154f604b470>]"
      ]
     },
     "execution_count": 28,
     "metadata": {},
     "output_type": "execute_result"
    },
    {
     "data": {
      "image/png": "[encoded data removed]",
      "text/plain": [
       "<matplotlib.figure.Figure at 0x154f5f76a20>"
      ]
     },
     "metadata": {
      "needs_background": "light"
     },
     "output_type": "display_data"
    }
   ],
   "source": [
    "plt.plot(x_data,y_label,'*')"
   ]
  },
  {
   "cell_type": "markdown",
   "metadata": {},
   "source": [
    "Regression equation\n",
    " Y= mx + b"
   ]
  },
  {
   "cell_type": "code",
   "execution_count": 29,
   "metadata": {},
   "outputs": [
    {
     "data": {
      "text/plain": [
       "array([0.81226589, 0.67026042])"
      ]
     },
     "execution_count": 29,
     "metadata": {},
     "output_type": "execute_result"
    }
   ],
   "source": [
    "# generate two random numbers and assign them as initial values of m and b. Optimization should find the optimal values for these\n",
    "np.random.rand(2)"
   ]
  },
  {
   "cell_type": "code",
   "execution_count": 30,
   "metadata": {
    "collapsed": true
   },
   "outputs": [],
   "source": [
    "#declare TF variables\n",
    "m =tf.Variable(.81)\n",
    "b= tf.Variable(.67)"
   ]
  },
  {
   "cell_type": "code",
   "execution_count": 36,
   "metadata": {
    "collapsed": true
   },
   "outputs": [],
   "source": [
    "# Defining cost function which we will reduce\n",
    "error = 0\n",
    "for x,y in zip(x_data,y_label):\n",
    "    y_hat= m*x + b\n",
    "    \n",
    "    error +=(y-y_hat)**2\n",
    "    "
   ]
  },
  {
   "cell_type": "code",
   "execution_count": 37,
   "metadata": {
    "collapsed": true
   },
   "outputs": [],
   "source": [
    "# Defining optimization function to reduce the cost\n",
    "optimizer = tf.train.GradientDescentOptimizer(learning_rate=0.001)\n",
    "train= optimizer.minimize(error)"
   ]
  },
  {
   "cell_type": "code",
   "execution_count": 39,
   "metadata": {},
   "outputs": [],
   "source": [
    "init= tf.global_variables_initializer()"
   ]
  },
  {
   "cell_type": "code",
   "execution_count": 43,
   "metadata": {
    "collapsed": true
   },
   "outputs": [],
   "source": [
    "# in TF, everything happens inside session\n",
    "with tf.Session() as sess:\n",
    "    sess.run(init)\n",
    "    \n",
    "    training_steps=100\n",
    "    for i in range(training_steps):\n",
    "        sess.run(train)\n",
    "    final_slope,final_intercept = sess.run([m,b])"
   ]
  },
  {
   "cell_type": "code",
   "execution_count": 44,
   "metadata": {},
   "outputs": [
    {
     "data": {
      "text/plain": [
       "[<matplotlib.lines.Line2D at 0x154f66cddd8>]"
      ]
     },
     "execution_count": 44,
     "metadata": {},
     "output_type": "execute_result"
    },
    {
     "data": {
      "image/png": "[encoded data removed]",
      "text/plain": [
       "<matplotlib.figure.Figure at 0x154f66cd588>"
      ]
     },
     "metadata": {
      "needs_background": "light"
     },
     "output_type": "display_data"
    }
   ],
   "source": [
    "# test the fit\n",
    "x_test = np.linspace(-1,11,10)\n",
    "# y= mx + b\n",
    "y_pred = final_slope*x_test + final_intercept\n",
    "plt.plot(x_test,y_pred,'r')\n",
    "plt.plot(x_data,y_label,'*')\n",
    "\n",
    "#looks like we got pretty good estimations for m and b. We can run more steps to optimize these"
   ]
  }
 ],
 "metadata": {
  "kernelspec": {
   "display_name": "Python 3",
   "language": "python",
   "name": "python3"
  },
  "language_info": {
   "codemirror_mode": {
    "name": "ipython",
    "version": 3
   },
   "file_extension": ".py",
   "mimetype": "text/x-python",
   "name": "python",
   "nbconvert_exporter": "python",
   "pygments_lexer": "ipython3",
   "version": "3.5.6"
  }
 },
 "nbformat": 4,
 "nbformat_minor": 2
}
